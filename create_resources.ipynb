{
 "cells": [
  {
   "cell_type": "markdown",
   "metadata": {},
   "source": [
    "# Creating Azure Resources\n",
    "\n"
   ]
  },
  {
   "cell_type": "code",
   "execution_count": null,
   "metadata": {},
   "outputs": [],
   "source": [
    "from azure.mgmt.resource import ResourceManagementClient\n",
    "from azure.common.credentials import ServicePrincipalCredentials\n",
    "from azure.mgmt.resource.resources.models import DeploymentMode\n",
    "import json"
   ]
  },
  {
   "cell_type": "markdown",
   "metadata": {},
   "source": [
    "Start with specifying your subscription and resource group information and log in."
   ]
  },
  {
   "cell_type": "code",
   "execution_count": null,
   "metadata": {},
   "outputs": [],
   "source": [
    "# Subscription & resource group\n",
    "SUBSCRIPTION_NAME = 'Team Danielle Internal'\n",
    "SUBSCRIPTION_ID = 'edf507a2-6235-46c5-b560-fd463ba2e771'\n",
    "RESOURCE_GROUP = 'baimm'\n",
    "LOCATION = 'eastus'"
   ]
  },
  {
   "cell_type": "code",
   "execution_count": null,
   "metadata": {},
   "outputs": [],
   "source": [
    "# Login to subscription\n",
    "!az login"
   ]
  },
  {
   "cell_type": "code",
   "execution_count": null,
   "metadata": {},
   "outputs": [],
   "source": [
    "# Select subscription\n",
    "!az account set -s \"{SUBSCRIPTION_NAME}\""
   ]
  },
  {
   "cell_type": "code",
   "execution_count": null,
   "metadata": {},
   "outputs": [],
   "source": [
    "# Create resource group (skip if you are using an existing resource group)\n",
    "!az group create -l {LOCATION} -n {RESOURCE_GROUP}"
   ]
  },
  {
   "cell_type": "markdown",
   "metadata": {},
   "source": [
    "You will also need service principal credentials for authentication. Enter your service principal credentials below. If you need to create new credentials, follow the instructions [here](https://docs.microsoft.com/en-us/cli/azure/create-an-azure-service-principal-azure-cli?view=azure-cli-latest), or simply run the following and record the credentials below:\n",
    "\n",
    "```az ad sp create-for-rbac```"
   ]
  },
  {
   "cell_type": "code",
   "execution_count": null,
   "metadata": {},
   "outputs": [],
   "source": [
    "# Service principal info \n",
    "SP_CLIENT = '095d4aa7-a8d5-4f24-aa96-c631e3dee97c'\n",
    "SP_SECRET = 'a9b478dc-dbdb-403f-bd6d-1dee6c0b1bd4'\n",
    "SP_TENANT = '72f988bf-86f1-41af-91ab-2d7cd011db47'"
   ]
  },
  {
   "cell_type": "markdown",
   "metadata": {},
   "source": [
    "The following are parameters needed to create and access the main Azure resources. These include: Azure Container Registry (ACR), Batch AI, Blob Storage, and Logic Apps parameters. \n",
    "\n",
    "You can use the default values below as is."
   ]
  },
  {
   "cell_type": "code",
   "execution_count": null,
   "metadata": {},
   "outputs": [],
   "source": [
    "# ACR\n",
    "ACR_NAME = 'baimmacr'\n",
    "ACR_SERVER = 'baimmacr.azurecr.io'\n",
    "BAI_DOCKER_IMG = 'baimmacr.azurecr.io/baimmimg:v1'\n",
    "SCHED_DOCKER_IMG = 'baimmacr.azurecr.io/baimmschedimg:v1'\n",
    "\n",
    "# Batch AI\n",
    "BAI_CLUSTER_NAME = 'baimmcluster'\n",
    "BAI_WORKSPACE = 'baimmws'\n",
    "BAI_USER = 'baimmuser'\n",
    "BAI_PASS = 'baimmpass'\n",
    "BAI_VM_SIZE = 'Standard_D2'\n",
    "BAI_VM_IMG = 'UbuntuLTS'\n",
    "BAI_NODES_MIN = 0\n",
    "BAI_NODES_MAX = 3\n",
    "\n",
    "# Blob storage\n",
    "BFS_CONTAINER = 'bfs' # shared across Batch AI nodes under /mnt/batch/tasks/shared/LS_root/mounts/bfs\n",
    "BLOB_ACCOUNT = 'baimmstorage'\n",
    "MODELS_CONTAINER = 'models'\n",
    "PREDS_CONTAINER = 'preds'\n",
    "DATA_CONTAINER = 'data'\n",
    "\n",
    "# Logic App\n",
    "LA_ACI_CON = 'aci'\n",
    "LA_WORKFLOW = 'baimmscheduler'\n",
    "LA_ACI_CON_JSON = 'sched/api_con_template.json'\n",
    "LA_JSON = 'sched/logic_app_template.json'\n",
    "LA_ACI_CONTAINER_NAME = 'baimmschedcontainer'\n",
    "LA_ACI_CONTAINER_GROUP = 'baimmcontainergroup'"
   ]
  },
  {
   "cell_type": "code",
   "execution_count": null,
   "metadata": {},
   "outputs": [],
   "source": [
    "# Create ACR\n",
    "!az acr create --resource-group {RESOURCE_GROUP} --name {ACR_NAME} --sku Basic"
   ]
  },
  {
   "cell_type": "code",
   "execution_count": null,
   "metadata": {},
   "outputs": [],
   "source": [
    "# Create Blob storage account\n",
    "!az storage account create -n {BLOB_ACCOUNT} -g {RESOURCE_GROUP} -l {LOCATION}"
   ]
  },
  {
   "cell_type": "code",
   "execution_count": null,
   "metadata": {},
   "outputs": [],
   "source": [
    "# Retrieve Blob storage key\n",
    "blob_keys = !az storage account keys list -g {RESOURCE_GROUP} -n {BLOB_ACCOUNT} --output tsv\n",
    "blob_key = blob_keys[0].split('\\t')[2]"
   ]
  },
  {
   "cell_type": "code",
   "execution_count": null,
   "metadata": {},
   "outputs": [],
   "source": [
    "# Create models, predictions and data containers\n",
    "!az storage container create -n {MODELS_CONTAINER} --account-key {blob_key} --account-name {BLOB_ACCOUNT}\n",
    "!az storage container create -n {PREDS_CONTAINER} --account-key {blob_key} --account-name {BLOB_ACCOUNT}\n",
    "!az storage container create -n {DATA_CONTAINER} --account-key {blob_key} --account-name {BLOB_ACCOUNT}"
   ]
  },
  {
   "cell_type": "code",
   "execution_count": null,
   "metadata": {},
   "outputs": [],
   "source": [
    "# Create Batch AI cluster and set auto-scaling\n",
    "!az batchai workspace create -g {RESOURCE_GROUP} -n {BAI_WORKSPACE}\n",
    "!az batchai cluster create -g {RESOURCE_GROUP} -n {BAI_CLUSTER_NAME} -w {BAI_WORKSPACE} -s {BAI_VM_SIZE} -i {BAI_VM_IMG} --min {BAI_NODES_MIN} --max {BAI_NODES_MAX} -u {BAI_USER} -p {BAI_PASS} --storage-account-name {BLOB_ACCOUNT} --storage-account-key {blob_key} --bfs-name {BFS_CONTAINER}\n",
    "!az batchai cluster auto-scale -g {RESOURCE_GROUP} -w {BAI_WORKSPACE} -n {BAI_CLUSTER_NAME} --min {BAI_NODES_MIN} --max {BAI_NODES_MAX}"
   ]
  },
  {
   "cell_type": "code",
   "execution_count": null,
   "metadata": {},
   "outputs": [],
   "source": [
    "# Create config file for scoring script (predict.py)\n",
    "score_config = {\"blob_account\": BLOB_ACCOUNT,\n",
    "                \"blob_key\": blob_key,\n",
    "                \"models_blob_container\": MODELS_CONTAINER,\n",
    "                \"data_blob_container\": DATA_CONTAINER,\n",
    "                \"data_blob\" : DATA_BLOB,\n",
    "                \"predictions_blob_container\": PREDS_CONTAINER}\n",
    "\n",
    "with open('batchai/predict_config.json', 'w') as f:\n",
    "    json.dump(score_config, f, indent=4)\n"
   ]
  },
  {
   "cell_type": "code",
   "execution_count": null,
   "metadata": {},
   "outputs": [],
   "source": [
    "# Create Batch AI docker img\n",
    "!docker build -f batchai/Dockerfile -t {BAI_DOCKER_IMG} ."
   ]
  },
  {
   "cell_type": "code",
   "execution_count": null,
   "metadata": {},
   "outputs": [],
   "source": [
    "# Validate that the image was created\n",
    "!docker images"
   ]
  },
  {
   "cell_type": "code",
   "execution_count": null,
   "metadata": {},
   "outputs": [],
   "source": [
    "# Login to ACR and push docker image\n",
    "!az acr login --name {ACR_NAME}\n",
    "!docker push {BAI_DOCKER_IMG}"
   ]
  },
  {
   "cell_type": "code",
   "execution_count": null,
   "metadata": {},
   "outputs": [],
   "source": [
    "# Copy models from local dir to blob container\n",
    "!az storage blob upload-batch -d {MODELS_CONTAINER} -s models --account-name {BLOB_ACCOUNT}"
   ]
  },
  {
   "cell_type": "code",
   "execution_count": null,
   "metadata": {},
   "outputs": [],
   "source": [
    "# Copy dataset to blob\n",
    "!az storage blob upload -c {DATA_CONTAINER} -f data/'sensor_data.csv' -n 'sensor_data.csv' --account-name {BLOB_ACCOUNT}"
   ]
  },
  {
   "cell_type": "code",
   "execution_count": null,
   "metadata": {},
   "outputs": [],
   "source": [
    "# Enable ACR admin account authentication\n",
    "!az acr update -n {ACR_NAME} --admin-enabled true"
   ]
  },
  {
   "cell_type": "code",
   "execution_count": null,
   "metadata": {},
   "outputs": [],
   "source": [
    "# Get ACR's password (user is {ACR_NAME})\n",
    "acr_cred = !az acr credential show --name {ACR_NAME} \n",
    "acr_password = acr_cred[4].split(':')[1].replace('\"','').replace(' ','')"
   ]
  },
  {
   "cell_type": "code",
   "execution_count": null,
   "metadata": {},
   "outputs": [],
   "source": [
    "# Create config file for Batch AI job submission script (submit_jobs.py)\n",
    "submit_jobs_config = {\n",
    "  \"sp_tenant\": SP_TENANT,\n",
    "  \"sp_client\": SP_CLIENT,\n",
    "  \"sp_secret\": SP_SECRET,\n",
    "  \"resource_group_name\": RESOURCE_GROUP,\n",
    "  \"subscription_id\": SUBSCRIPTION_ID,\n",
    "  \"work_space\": BAI_WORKSPACE,\n",
    "  \"experiment_name\": \"baimm_score\",\n",
    "  \"cluster_name\": BAI_CLUSTER_NAME,\n",
    "  \"location\": LOCATION,\n",
    "  \"acr_server\": ACR_SERVER,\n",
    "  \"acr_image\": BAI_DOCKER_IMG,\n",
    "  \"acr_user\": ACR_NAME,\n",
    "  \"acr_password\": acr_password,\n",
    "  \"command_line\": \"python predict.py {0} {1} {2}\",\n",
    "  \"std_out_err_path_prefix\": '/mnt/batch/tasks/shared/LS_root/mounts/{}'.format(BFS_CONTAINER),\n",
    "  \"config_file_path\": \"predict_config.json\",\n",
    "  \"node_count\": 2,\n",
    "  \"device_ids\": [ 1, 2, 3 ],\n",
    "  \"tags\": [ 1, 2, 3, 4, 5 ],\n",
    "  \"job_name\": \"baimm_predict{0}_{1}\" # job name template\n",
    "}\n",
    "\n",
    "with open('sched/bai_pred_config.json', 'w') as f:\n",
    "    json.dump(submit_jobs_config, f, indent=4)"
   ]
  },
  {
   "cell_type": "code",
   "execution_count": null,
   "metadata": {},
   "outputs": [],
   "source": [
    "# Create scheduling docker img\n",
    "!docker build -f sched/Dockerfile -t {SCHED_DOCKER_IMG} ."
   ]
  },
  {
   "cell_type": "code",
   "execution_count": null,
   "metadata": {},
   "outputs": [],
   "source": [
    "# Login to ACR and push docker image\n",
    "!az acr login --name {ACR_NAME}\n",
    "!docker push {SCHED_DOCKER_IMG}"
   ]
  },
  {
   "cell_type": "code",
   "execution_count": null,
   "metadata": {},
   "outputs": [],
   "source": []
  },
  {
   "cell_type": "code",
   "execution_count": null,
   "metadata": {},
   "outputs": [],
   "source": []
  },
  {
   "cell_type": "code",
   "execution_count": null,
   "metadata": {},
   "outputs": [],
   "source": [
    "# Create credentials and ARM client\n",
    "credentials = ServicePrincipalCredentials(client_id=SP_CLIENT,\n",
    "                                          secret=SP_SECRET,\n",
    "                                          tenant=SP_TENANT)\n",
    "arm_client = ResourceManagementClient(credentials, SUBSCRIPTION_ID)"
   ]
  },
  {
   "cell_type": "code",
   "execution_count": 40,
   "metadata": {},
   "outputs": [
    {
     "data": {
      "text/plain": [
       "<msrest.polling.poller.LROPoller at 0x7fd6f16ce4e0>"
      ]
     },
     "execution_count": 40,
     "metadata": {},
     "output_type": "execute_result"
    }
   ],
   "source": [
    "# Create an ACI API connection\n",
    "with open('sched/api_con_template.json') as f:\n",
    "    aci_api_con_template = json.load(f)\n",
    "\n",
    "aci_api_con_params = {\"location\": {\"value\": LOCATION},\n",
    "                      \"name\": {\"value\": LA_ACI_CON},\n",
    "                      \"subscription_id\": {\"value\": SUBSCRIPTION_ID}\n",
    "                      }\n",
    "\n",
    "aci_api_con_props = {\n",
    "    'mode': DeploymentMode.incremental,\n",
    "    'template': aci_api_con_template,\n",
    "    'parameters': aci_api_con_params\n",
    "}\n",
    "\n",
    "arm_client.deployments.create_or_update(RESOURCE_GROUP, LA_ACI_CON, aci_api_con_props)\n"
   ]
  },
  {
   "cell_type": "code",
   "execution_count": 41,
   "metadata": {},
   "outputs": [
    {
     "data": {
      "text/plain": [
       "<msrest.polling.poller.LROPoller at 0x7fd6f0d63198>"
      ]
     },
     "execution_count": 41,
     "metadata": {},
     "output_type": "execute_result"
    }
   ],
   "source": [
    "# Create Logic App\n",
    "with open('sched/logic_app_template.json') as f:\n",
    "    logic_app_template = json.load(f)\n",
    "\n",
    "logic_app_params = {\"location\": {\"value\": LOCATION},\n",
    "                    \"resource_group\": { \"value\": RESOURCE_GROUP },\n",
    "                    \"name\": {\"value\": LA_WORKFLOW},\n",
    "                    \"subscription_id\": {\"value\": SUBSCRIPTION_ID},\n",
    "                    \"container_name\": { \"value\": LA_ACI_CONTAINER_NAME },\n",
    "                    \"container_group\": { \"value\": LA_ACI_CONTAINER_GROUP },\n",
    "                    \"image_name\": { \"value\": SCHED_DOCKER_IMG },\n",
    "                    \"acr_pass\": { \"value\": acr_password },\n",
    "                    \"acr_user\": { \"value\": ACR_NAME },\n",
    "                    \"acr_server\": { \"value\": ACR_SERVER },\n",
    "                    \"aci_connection_name\": { \"value\": LA_ACI_CON }\n",
    "                    }\n",
    "\n",
    "logic_app_props = {\n",
    "    'mode': DeploymentMode.incremental,\n",
    "    'template': logic_app_template,\n",
    "    'parameters': logic_app_params\n",
    "}\n",
    "\n",
    "arm_client.deployments.create_or_update(RESOURCE_GROUP, LA_WORKFLOW, logic_app_props)\n"
   ]
  },
  {
   "cell_type": "code",
   "execution_count": null,
   "metadata": {},
   "outputs": [],
   "source": [
    "go to portal \n",
    "authenticate \n",
    "run\n",
    "\n"
   ]
  },
  {
   "cell_type": "code",
   "execution_count": null,
   "metadata": {},
   "outputs": [],
   "source": [
    "logic_app_template"
   ]
  },
  {
   "cell_type": "code",
   "execution_count": null,
   "metadata": {},
   "outputs": [],
   "source": [
    "acr_password\n"
   ]
  },
  {
   "cell_type": "code",
   "execution_count": null,
   "metadata": {},
   "outputs": [],
   "source": []
  }
 ],
 "metadata": {
  "kernelspec": {
   "display_name": "Python 3",
   "language": "python",
   "name": "python3"
  },
  "language_info": {
   "codemirror_mode": {
    "name": "ipython",
    "version": 3
   },
   "file_extension": ".py",
   "mimetype": "text/x-python",
   "name": "python",
   "nbconvert_exporter": "python",
   "pygments_lexer": "ipython3",
   "version": "3.6.5"
  }
 },
 "nbformat": 4,
 "nbformat_minor": 2
}
