{
 "cells": [
  {
   "cell_type": "markdown",
   "metadata": {},
   "source": [
    "# Creating Azure Resources\n",
    "\n"
   ]
  },
  {
   "cell_type": "code",
   "execution_count": 132,
   "metadata": {},
   "outputs": [],
   "source": [
    "from azure.mgmt.resource import ResourceManagementClient\n",
    "from azure.common.credentials import ServicePrincipalCredentials\n",
    "import json\n",
    "\n",
    "# Set resources' parameters\n",
    "SUBSCRIPTION_NAME = 'Team Danielle Internal'\n",
    "SUBSCRIPTION_ID = 'edf507a2-6235-46c5-b560-fd463ba2e771'\n",
    "SP_CLIENT_ID = '095d4aa7-a8d5-4f24-aa96-c631e3dee97c'\n",
    "SP_SECRET = 'a9b478dc-dbdb-403f-bd6d-1dee6c0b1bd4'\n",
    "SP_TENANT = '72f988bf-86f1-41af-91ab-2d7cd011db47'\n",
    "\n",
    "RESOURCE_GROUP = 'baimm'\n",
    "LOCATION = 'eastus'\n",
    "ACR_NAME = 'baimmacr'\n",
    "BAI_DOCKER_IMG = 'baimmacr.azurecr.io/baimmimg:v1'\n",
    "SCHED_DOCKER_IMG = 'baimmacr.azurecr.io/baimmschedimg:v1'\n",
    "\n",
    "BAI_CLUSTER_NAME = 'baimmcluster'\n",
    "BAI_WORKSPACE = 'baimmws'\n",
    "BAI_USER = 'baimmuser'\n",
    "BAI_PASS = 'baimmpass'\n",
    "BAI_VM_SIZE = 'Standard_D2'\n",
    "BAI_VM_IMG = 'UbuntuLTS'\n",
    "BAI_NODES_MIN = 0\n",
    "BAI_NODES_MAX = 3\n",
    "BLOB_ACCOUNT = 'baimmstorage'\n",
    "MODELS_CONTAINER = 'models'\n",
    "PREDS_CONTAINER = 'preds'\n",
    "DATA_CONTAINER = 'data'\n",
    "DATA_FILE = 'sensor_data.csv'\n"
   ]
  },
  {
   "cell_type": "code",
   "execution_count": null,
   "metadata": {},
   "outputs": [],
   "source": [
    "# Login to subscription\n",
    "!az login"
   ]
  },
  {
   "cell_type": "code",
   "execution_count": null,
   "metadata": {},
   "outputs": [],
   "source": [
    "# Select subscription\n",
    "!az account set -s \"{SUBSCRIPTION_NAME}\""
   ]
  },
  {
   "cell_type": "code",
   "execution_count": null,
   "metadata": {},
   "outputs": [],
   "source": [
    "# Create resource group\n",
    "!az group create -l {LOCATION} -n {RESOURCE_GROUP}"
   ]
  },
  {
   "cell_type": "code",
   "execution_count": null,
   "metadata": {},
   "outputs": [],
   "source": [
    "# Create ACR\n",
    "!az acr create --resource-group {RESOURCE_GROUP} --name {ACR_NAME} --sku Basic"
   ]
  },
  {
   "cell_type": "code",
   "execution_count": null,
   "metadata": {},
   "outputs": [],
   "source": [
    "# Create Blob storage account\n",
    "!az storage account create -n {BLOB_ACCOUNT} -g {RESOURCE_GROUP} -l {LOCATION}"
   ]
  },
  {
   "cell_type": "code",
   "execution_count": null,
   "metadata": {},
   "outputs": [],
   "source": [
    "# Retrieve Blob storage key\n",
    "blob_keys = !az storage account keys list -g {RESOURCE_GROUP} -n {BLOB_ACCOUNT} --output tsv\n",
    "blob_key = blob_keys[0].split('\\t')[2]"
   ]
  },
  {
   "cell_type": "code",
   "execution_count": null,
   "metadata": {},
   "outputs": [],
   "source": [
    "# Create models, predictions and data containers\n",
    "!az storage container create -n {MODELS_CONTAINER} --account-key {blob_key} --account-name {BLOB_ACCOUNT}\n",
    "!az storage container create -n {PREDS_CONTAINER} --account-key {blob_key} --account-name {BLOB_ACCOUNT}\n",
    "!az storage container create -n {DATA_CONTAINER} --account-key {blob_key} --account-name {BLOB_ACCOUNT}"
   ]
  },
  {
   "cell_type": "code",
   "execution_count": null,
   "metadata": {},
   "outputs": [],
   "source": [
    "# Create Batch AI cluster and set auto-scaling\n",
    "!az batchai workspace create -g {RESOURCE_GROUP} -n {BAI_WORKSPACE}\n",
    "!az batchai cluster create -g {RESOURCE_GROUP} -n {BAI_CLUSTER_NAME} -w {BAI_WORKSPACE} -s {BAI_VM_SIZE} -i {BAI_VM_IMG} --min {BAI_NODES_MIN} --max {BAI_NODES_MAX} -u {BAI_USER} -p {BAI_PASS} --storage-account-name {BLOB_ACCOUNT} --storage-account-key {blob_key} --bfs-name {BLOB_CONTAINER}\n",
    "!az batchai cluster auto-scale -g {RESOURCE_GROUP} -w {BAI_WORKSPACE} -n {BAI_CLUSTER_NAME} --min {BAI_NODES_MIN} --max {BAI_NODES_MAX}"
   ]
  },
  {
   "cell_type": "code",
   "execution_count": 136,
   "metadata": {},
   "outputs": [],
   "source": [
    "# Create config file for scoring script\n",
    "score_config = {\"blob_account\": BLOB_ACCOUNT,\n",
    "                \"blob_key\": blob_key,\n",
    "                \"models_blob_container\": MODELS_CONTAINER,\n",
    "                \"predictions_blob_container\": PREDS_CONTAINER}\n",
    "\n",
    "with open('batchai/predict_config.json', 'w') as f:\n",
    "    json.dump(score_config, f, indent=4)\n"
   ]
  },
  {
   "cell_type": "code",
   "execution_count": null,
   "metadata": {},
   "outputs": [],
   "source": [
    "# Create Batch AI docker img\n",
    "!docker build -f batchai/Dockerfile -t {BAI_DOCKER_IMG} ."
   ]
  },
  {
   "cell_type": "code",
   "execution_count": null,
   "metadata": {},
   "outputs": [],
   "source": [
    "# Validate that the image was created\n",
    "!docker images"
   ]
  },
  {
   "cell_type": "code",
   "execution_count": null,
   "metadata": {},
   "outputs": [],
   "source": [
    "# Login to ACR and push docker image\n",
    "!az acr login --name {ACR_NAME}\n",
    "!docker push {BAI_DOCKER_IMG}"
   ]
  },
  {
   "cell_type": "code",
   "execution_count": null,
   "metadata": {},
   "outputs": [],
   "source": [
    "# Copy models from local dir to blob container\n",
    "!az storage blob upload-batch -d {MODELS_CONTAINER} -s models --account-name {BLOB_ACCOUNT}"
   ]
  },
  {
   "cell_type": "code",
   "execution_count": null,
   "metadata": {},
   "outputs": [],
   "source": [
    "# Copy dataset to blob\n",
    "!az storage blob upload -c {DATA_CONTAINER} -f data/{DATA_FILE} -n {DATA_FILE} --account-name {BLOB_ACCOUNT}"
   ]
  },
  {
   "cell_type": "code",
   "execution_count": null,
   "metadata": {},
   "outputs": [],
   "source": []
  },
  {
   "cell_type": "code",
   "execution_count": null,
   "metadata": {},
   "outputs": [],
   "source": [
    "!ls"
   ]
  },
  {
   "cell_type": "code",
   "execution_count": null,
   "metadata": {},
   "outputs": [],
   "source": []
  },
  {
   "cell_type": "code",
   "execution_count": null,
   "metadata": {},
   "outputs": [],
   "source": []
  }
 ],
 "metadata": {
  "kernelspec": {
   "display_name": "Python 3",
   "language": "python",
   "name": "python3"
  },
  "language_info": {
   "codemirror_mode": {
    "name": "ipython",
    "version": 3
   },
   "file_extension": ".py",
   "mimetype": "text/x-python",
   "name": "python",
   "nbconvert_exporter": "python",
   "pygments_lexer": "ipython3",
   "version": "3.6.5"
  }
 },
 "nbformat": 4,
 "nbformat_minor": 2
}
