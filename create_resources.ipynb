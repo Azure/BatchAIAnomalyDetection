{
 "cells": [
  {
   "cell_type": "markdown",
   "metadata": {},
   "source": [
    "# Creating Azure Resources\n",
    "\n"
   ]
  },
  {
   "cell_type": "code",
   "execution_count": null,
   "metadata": {},
   "outputs": [],
   "source": [
    "# Set resources' parameters\n",
    "SUBSCRIPTION_NAME = ''\n",
    "RESOURCE_GROUP = ''\n",
    "ACR_NAME = 'baimmacr'\n",
    "SCHED_DOCKER_IMG = 'baimmschedimg'\n",
    "BAI_DOCKER_IMG = 'baimmimg'"
   ]
  },
  {
   "cell_type": "code",
   "execution_count": null,
   "metadata": {},
   "outputs": [],
   "source": [
    "# Login to subscription\n",
    "!az login\n",
    "!az account set -s {}\n",
    "\n",
    "# Create Resource Group\n"
   ]
  },
  {
   "cell_type": "code",
   "execution_count": null,
   "metadata": {},
   "outputs": [],
   "source": [
    "\n",
    "\n",
    "!az acr login --name baimmacr\n",
    "!az acr create --resource-group bleikbaimm --name baimmacr --sku Basic"
   ]
  }
 ],
 "metadata": {
  "kernelspec": {
   "display_name": "Python 3",
   "language": "python",
   "name": "python3"
  },
  "language_info": {
   "codemirror_mode": {
    "name": "ipython",
    "version": 3
   },
   "file_extension": ".py",
   "mimetype": "text/x-python",
   "name": "python",
   "nbconvert_exporter": "python",
   "pygments_lexer": "ipython3",
   "version": "3.6.6"
  }
 },
 "nbformat": 4,
 "nbformat_minor": 2
}
