{
 "cells": [
  {
   "cell_type": "markdown",
   "metadata": {},
   "source": [
    "# Creating Azure Resources\n",
    "\n"
   ]
  },
  {
   "cell_type": "code",
   "execution_count": 2,
   "metadata": {},
   "outputs": [],
   "source": [
    "from azure.mgmt.resource import ResourceManagementClient\n",
    "from azure.common.credentials import ServicePrincipalCredentials\n",
    "\n",
    "\n",
    "# Set resources' parameters\n",
    "SUBSCRIPTION_NAME = 'Team Danielle Internal'\n",
    "SUBSCRIPTION_ID = 'edf507a2-6235-46c5-b560-fd463ba2e771'\n",
    "SP_CLIENT_ID = '095d4aa7-a8d5-4f24-aa96-c631e3dee97c'\n",
    "SP_SECRET = 'a9b478dc-dbdb-403f-bd6d-1dee6c0b1bd4'\n",
    "SP_TENANT = '72f988bf-86f1-41af-91ab-2d7cd011db47'\n",
    "\n",
    "RESOURCE_GROUP = 'baimm'\n",
    "LOCATION = 'eastus'\n",
    "ACR_NAME = 'baimmacr'\n",
    "SCHED_DOCKER_IMG = 'baimmschedimg'\n",
    "BAI_DOCKER_IMG = 'baimmimg'\n",
    "\n",
    "BAI_CLUSTER_NAME = 'baimmcluster'\n",
    "BLOB_ACCOUNT = ''\n",
    "BLOB_KEY = ''\n",
    "BLOB_CONTAINER = ''"
   ]
  },
  {
   "cell_type": "code",
   "execution_count": 1,
   "metadata": {},
   "outputs": [
    {
     "name": "stderr",
     "output_type": "stream",
     "text": [
      "WARNING: To sign in, use a web browser to open the page https://microsoft.com/devicelogin and enter the code ACVYP4AJJ to authenticate.\n",
      "ERROR: Unexpected polling state code_expired\n",
      "ERROR: The subscription of '{subscription_name}' doesn't exist in cloud 'AzureCloud'.\n"
     ]
    }
   ],
   "source": [
    "# Login to subscription\n",
    "!az login\n",
    "!az account set -s {SUBSCRIPTION_NAME}"
   ]
  },
  {
   "cell_type": "markdown",
   "metadata": {},
   "source": []
  },
  {
   "cell_type": "code",
   "execution_count": 3,
   "metadata": {},
   "outputs": [
    {
     "data": {
      "text/plain": [
       "<azure.mgmt.resource.resources.v2018_05_01.models.resource_group_py3.ResourceGroup at 0x2a73453fc50>"
      ]
     },
     "execution_count": 3,
     "metadata": {},
     "output_type": "execute_result"
    }
   ],
   "source": [
    "# Create credentials\n",
    "credentials = ServicePrincipalCredentials(client_id=SP_CLIENT_ID,\n",
    "                                          secret=SP_SECRET,\n",
    "                                          tenant=SP_TENANT)\n",
    "# Create Resource Group\n",
    "rm_client = ResourceManagementClient(credentials, SUBSCRIPTION_ID)\n",
    "rm_client.resource_groups.create_or_update(RESOURCE_GROUP, {'location': LOCATION})"
   ]
  },
  {
   "cell_type": "code",
   "execution_count": null,
   "metadata": {},
   "outputs": [],
   "source": [
    "\n",
    "# Create ACR\n",
    "!az acr login --name {ACR_NAME}\n",
    "!az acr create --resource-group bleikbaimm --name baimmacr --sku Basic\n",
    "\n",
    "# Create Batch AI cluster\n",
    "!az batchai cluster create -l {LOCATION} -g {RESOURCE_GROUP} -n {BAI_CLUSTER_NAME} -s Standard_NC6 -i UbuntuDSVM --min 2 --max 2 -u demoUser -p demoPassword --storage-account-name baimmstorage --storage-account-key yCWDQMX5U6baYh/pqpEABOHpjQYK92L8IWei5ckpdgR5dT5S7TMmm2eCQUQL9Tn4TGssgf/Xjb6xT6sv+HXDFg== --container-name models \n",
    "!az batchai auto-scale -g MyResourceGroup -w MyWorkspace -n MyCluster --min 0 --max 10"
   ]
  }
 ],
 "metadata": {
  "kernelspec": {
   "display_name": "Python 3",
   "language": "python",
   "name": "python3"
  },
  "language_info": {
   "codemirror_mode": {
    "name": "ipython",
    "version": 3
   },
   "file_extension": ".py",
   "mimetype": "text/x-python",
   "name": "python",
   "nbconvert_exporter": "python",
   "pygments_lexer": "ipython3",
   "version": "3.6.6"
  }
 },
 "nbformat": 4,
 "nbformat_minor": 2
}
